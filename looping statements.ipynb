{
 "cells": [
  {
   "cell_type": "code",
   "execution_count": null,
   "metadata": {
    "collapsed": true
   },
   "outputs": [],
   "source": [
    "# for while\n",
    "print \"stements for program start\"\n",
    "i=0\n",
    "while i<10:\n",
    "    print i\n",
    "print \"other statements in program\"\n",
    "print \"stements for program end\""
   ]
  },
  {
   "cell_type": "code",
   "execution_count": 1,
   "metadata": {
    "collapsed": false
   },
   "outputs": [
    {
     "name": "stdout",
     "output_type": "stream",
     "text": [
      "stements for program start\n",
      "0\n",
      "1\n",
      "2\n",
      "other statements in program\n",
      "stements for program end\n"
     ]
    }
   ],
   "source": [
    "# for while\n",
    "print \"stements for program start\"\n",
    "i=0\n",
    "while i<3:\n",
    "    print i\n",
    "    i=i+1\n",
    "print \"other statements in program\"\n",
    "print \"stements for program end\""
   ]
  },
  {
   "cell_type": "code",
   "execution_count": 2,
   "metadata": {
    "collapsed": false
   },
   "outputs": [
    {
     "name": "stdout",
     "output_type": "stream",
     "text": [
      "stements for program start\n",
      "other statements in program\n",
      "stements for program end\n"
     ]
    }
   ],
   "source": [
    "# for while\n",
    "print \"stements for program start\"\n",
    "i=10\n",
    "while i<3:\n",
    "    print i\n",
    "    i=i+1\n",
    "print \"other statements in program\"\n",
    "print \"stements for program end\""
   ]
  },
  {
   "cell_type": "code",
   "execution_count": null,
   "metadata": {
    "collapsed": true
   },
   "outputs": [],
   "source": [
    "# for loop\n",
    "print \"stements for program start\"\n",
    "for i in \"abc\":\n",
    "    print \"iteration started\"\n",
    "    print i\n",
    "    print \"iteration ended\"\n",
    "print \"other statements in program\"\n",
    "print \"stements for program end\""
   ]
  },
  {
   "cell_type": "code",
   "execution_count": 3,
   "metadata": {
    "collapsed": true
   },
   "outputs": [],
   "source": [
    "s=\"abc\""
   ]
  },
  {
   "cell_type": "code",
   "execution_count": 4,
   "metadata": {
    "collapsed": false
   },
   "outputs": [
    {
     "data": {
      "text/plain": [
       "'a'"
      ]
     },
     "execution_count": 4,
     "metadata": {},
     "output_type": "execute_result"
    }
   ],
   "source": [
    "s[0]"
   ]
  },
  {
   "cell_type": "code",
   "execution_count": 5,
   "metadata": {
    "collapsed": false
   },
   "outputs": [
    {
     "data": {
      "text/plain": [
       "'c'"
      ]
     },
     "execution_count": 5,
     "metadata": {},
     "output_type": "execute_result"
    }
   ],
   "source": [
    "s[-1]"
   ]
  },
  {
   "cell_type": "code",
   "execution_count": 6,
   "metadata": {
    "collapsed": false
   },
   "outputs": [
    {
     "data": {
      "text/plain": [
       "'b'"
      ]
     },
     "execution_count": 6,
     "metadata": {},
     "output_type": "execute_result"
    }
   ],
   "source": [
    "s[1]"
   ]
  },
  {
   "cell_type": "code",
   "execution_count": 7,
   "metadata": {
    "collapsed": false
   },
   "outputs": [
    {
     "ename": "IndexError",
     "evalue": "string index out of range",
     "output_type": "error",
     "traceback": [
      "\u001b[1;31m---------------------------------------------------------------------------\u001b[0m",
      "\u001b[1;31mIndexError\u001b[0m                                Traceback (most recent call last)",
      "\u001b[1;32m<ipython-input-7-7e8ece4b37b8>\u001b[0m in \u001b[0;36m<module>\u001b[1;34m()\u001b[0m\n\u001b[1;32m----> 1\u001b[1;33m \u001b[0ms\u001b[0m\u001b[1;33m[\u001b[0m\u001b[1;36m20\u001b[0m\u001b[1;33m]\u001b[0m\u001b[1;33m\u001b[0m\u001b[0m\n\u001b[0m",
      "\u001b[1;31mIndexError\u001b[0m: string index out of range"
     ]
    }
   ],
   "source": [
    "s[20]"
   ]
  },
  {
   "cell_type": "code",
   "execution_count": 8,
   "metadata": {
    "collapsed": false
   },
   "outputs": [
    {
     "name": "stdout",
     "output_type": "stream",
     "text": [
      "stements for program start\n",
      "iteration started\n",
      "a\n",
      "iteration ended\n",
      "iteration started\n",
      "b\n",
      "iteration ended\n",
      "iteration started\n",
      "c\n",
      "iteration ended\n",
      "other statements in program\n",
      "stements for program end\n"
     ]
    }
   ],
   "source": [
    "# for loop\n",
    "print \"stements for program start\"\n",
    "for i in \"abc\":\n",
    "    print \"iteration started\"\n",
    "    print i\n",
    "    print \"iteration ended\"\n",
    "print \"other statements in program\"\n",
    "print \"stements for program end\""
   ]
  },
  {
   "cell_type": "code",
   "execution_count": 9,
   "metadata": {
    "collapsed": false
   },
   "outputs": [
    {
     "name": "stdout",
     "output_type": "stream",
     "text": [
      "stements for program start\n",
      "other statements in program\n",
      "stements for program end\n"
     ]
    }
   ],
   "source": [
    "# for loop\n",
    "print \"stements for program start\"\n",
    "for i in \"\":\n",
    "    print \"iteration started\"\n",
    "    print i\n",
    "    print \"iteration ended\"\n",
    "print \"other statements in program\"\n",
    "print \"stements for program end\""
   ]
  },
  {
   "cell_type": "code",
   "execution_count": 10,
   "metadata": {
    "collapsed": false
   },
   "outputs": [
    {
     "name": "stdout",
     "output_type": "stream",
     "text": [
      "Enter values to iterate:abcdefrgh\n",
      "stements for program start\n",
      "iteration started\n",
      "a\n",
      "iteration ended\n",
      "iteration started\n",
      "b\n",
      "iteration ended\n",
      "iteration started\n",
      "c\n",
      "iteration ended\n",
      "iteration started\n",
      "d\n",
      "iteration ended\n",
      "iteration started\n",
      "e\n",
      "iteration ended\n",
      "iteration started\n",
      "f\n",
      "iteration ended\n",
      "iteration started\n",
      "r\n",
      "iteration ended\n",
      "iteration started\n",
      "g\n",
      "iteration ended\n",
      "iteration started\n",
      "h\n",
      "iteration ended\n",
      "other statements in program\n",
      "stements for program end\n"
     ]
    }
   ],
   "source": [
    "# for loop\n",
    "s=raw_input(\"Enter values to iterate:\")\n",
    "print \"stements for program start\"\n",
    "for i in s:\n",
    "    print \"iteration started\"\n",
    "    print i\n",
    "    print \"iteration ended\"\n",
    "print \"other statements in program\"\n",
    "print \"stements for program end\""
   ]
  },
  {
   "cell_type": "code",
   "execution_count": 11,
   "metadata": {
    "collapsed": false
   },
   "outputs": [
    {
     "name": "stdout",
     "output_type": "stream",
     "text": [
      "Enter values to iterate:\n",
      "stements for program start\n",
      "other statements in program\n",
      "stements for program end\n"
     ]
    }
   ],
   "source": [
    "# for loop\n",
    "s=raw_input(\"Enter values to iterate:\")\n",
    "print \"stements for program start\"\n",
    "for i in s:\n",
    "    print \"iteration started\"\n",
    "    print i\n",
    "    print \"iteration ended\"\n",
    "print \"other statements in program\"\n",
    "print \"stements for program end\""
   ]
  },
  {
   "cell_type": "code",
   "execution_count": 12,
   "metadata": {
    "collapsed": false
   },
   "outputs": [
    {
     "name": "stdout",
     "output_type": "stream",
     "text": [
      "stements for program start\n",
      "0\n",
      "1\n",
      "2\n",
      "other statements in program\n",
      "stements for program end\n"
     ]
    }
   ],
   "source": [
    "# looping control statements  continue break\n",
    "# for while\n",
    "print \"stements for program start\"\n",
    "i=0\n",
    "while i<3:\n",
    "    print i\n",
    "    i=i+1\n",
    "print \"other statements in program\"\n",
    "print \"stements for program end\""
   ]
  },
  {
   "cell_type": "code",
   "execution_count": 13,
   "metadata": {
    "collapsed": false
   },
   "outputs": [
    {
     "name": "stdout",
     "output_type": "stream",
     "text": [
      "stements for program start\n",
      "0\n",
      "other statements in program\n",
      "stements for program end\n"
     ]
    }
   ],
   "source": [
    "# looping control statements  continue break\n",
    "# for while\n",
    "print \"stements for program start\"\n",
    "i=0\n",
    "while i<3:\n",
    "    # expressions\n",
    "    if i==1:\n",
    "        break\n",
    "    print i\n",
    "    i=i+1\n",
    "print \"other statements in program\"\n",
    "print \"stements for program end\""
   ]
  },
  {
   "cell_type": "code",
   "execution_count": 14,
   "metadata": {
    "collapsed": false
   },
   "outputs": [
    {
     "name": "stdout",
     "output_type": "stream",
     "text": [
      "stements for program start\n",
      "0\n",
      "other statements in program\n",
      "stements for program end\n"
     ]
    }
   ],
   "source": [
    "# looping control statements  continue break\n",
    "# for while\n",
    "print \"stements for program start\"\n",
    "i=0\n",
    "while i<3:\n",
    "    print i\n",
    "    i=i+1\n",
    "    break\n",
    "print \"other statements in program\"\n",
    "print \"stements for program end\""
   ]
  },
  {
   "cell_type": "code",
   "execution_count": 15,
   "metadata": {
    "collapsed": false
   },
   "outputs": [
    {
     "name": "stdout",
     "output_type": "stream",
     "text": [
      "stements for program start\n",
      "0\n",
      "other statements in program\n",
      "stements for program end\n"
     ]
    }
   ],
   "source": [
    "# looping control statements  continue break\n",
    "# Does it prints iteration ended?\n",
    "print \"stements for program start\"\n",
    "i=0\n",
    "while i<3:\n",
    "    print i\n",
    "    i=i+1\n",
    "    break\n",
    "    print \"iteration ended\"\n",
    "print \"other statements in program\"\n",
    "print \"stements for program end\""
   ]
  },
  {
   "cell_type": "code",
   "execution_count": 16,
   "metadata": {
    "collapsed": false
   },
   "outputs": [
    {
     "name": "stdout",
     "output_type": "stream",
     "text": [
      "Enter values to iterate:abcd\n",
      "stements for program start\n",
      "iteration started\n",
      "a\n",
      "iteration ended\n",
      "iteration started\n",
      "b\n",
      "iteration ended\n",
      "iteration started\n",
      "c\n",
      "iteration ended\n",
      "iteration started\n",
      "d\n",
      "iteration ended\n",
      "other statements in program\n",
      "stements for program end\n"
     ]
    }
   ],
   "source": [
    "# for loop\n",
    "s=raw_input(\"Enter values to iterate:\")\n",
    "print \"stements for program start\"\n",
    "for i in s:\n",
    "    print \"iteration started\"\n",
    "    if i==\" \":\n",
    "        break\n",
    "    print i\n",
    "    print \"iteration ended\"\n",
    "print \"other statements in program\"\n",
    "print \"stements for program end\""
   ]
  },
  {
   "cell_type": "code",
   "execution_count": 17,
   "metadata": {
    "collapsed": false
   },
   "outputs": [
    {
     "name": "stdout",
     "output_type": "stream",
     "text": [
      "Enter values to iterate:a b c d\n",
      "stements for program start\n",
      "iteration started\n",
      "a\n",
      "iteration ended\n",
      "iteration started\n",
      "other statements in program\n",
      "stements for program end\n"
     ]
    }
   ],
   "source": [
    "# for loop\n",
    "s=raw_input(\"Enter values to iterate:\")\n",
    "print \"stements for program start\"\n",
    "for i in s:\n",
    "    print \"iteration started\"\n",
    "    if i==\" \":\n",
    "        break\n",
    "    print i\n",
    "    print \"iteration ended\"\n",
    "print \"other statements in program\"\n",
    "print \"stements for program end\""
   ]
  },
  {
   "cell_type": "code",
   "execution_count": 18,
   "metadata": {
    "collapsed": false
   },
   "outputs": [
    {
     "name": "stdout",
     "output_type": "stream",
     "text": [
      "Enter values to iterate:abc\n",
      "stements for program start\n",
      "iteration started\n",
      "other statements in program\n",
      "stements for program end\n"
     ]
    }
   ],
   "source": [
    "# for loop\n",
    "s=raw_input(\"Enter values to iterate:\")\n",
    "print \"stements for program start\"\n",
    "for i in s:\n",
    "    print \"iteration started\"\n",
    "    break\n",
    "    print i\n",
    "    print \"iteration ended\"\n",
    "print \"other statements in program\"\n",
    "print \"stements for program end\""
   ]
  },
  {
   "cell_type": "code",
   "execution_count": 19,
   "metadata": {
    "collapsed": false
   },
   "outputs": [
    {
     "name": "stdout",
     "output_type": "stream",
     "text": [
      "stements for program start\n",
      "iteration started\n",
      "a\n",
      "iteration ended\n",
      "iteration started\n",
      "b\n",
      "iteration ended\n",
      "iteration started\n",
      "c\n",
      "iteration ended\n",
      "other statements in program\n",
      "stements for program end\n"
     ]
    }
   ],
   "source": [
    "# continue\n",
    "# for loop\n",
    "s=\"abc\"\n",
    "print \"stements for program start\"\n",
    "for i in s:\n",
    "    print \"iteration started\"\n",
    "    print i\n",
    "    print \"iteration ended\"\n",
    "    continue\n",
    "print \"other statements in program\"\n",
    "print \"stements for program end\""
   ]
  },
  {
   "cell_type": "code",
   "execution_count": 20,
   "metadata": {
    "collapsed": false
   },
   "outputs": [
    {
     "name": "stdout",
     "output_type": "stream",
     "text": [
      "stements for program start\n",
      "iteration started\n",
      "a\n",
      "iteration started\n",
      "b\n",
      "iteration started\n",
      "c\n",
      "other statements in program\n",
      "stements for program end\n"
     ]
    }
   ],
   "source": [
    "# continue\n",
    "# for loop\n",
    "s=\"abc\"\n",
    "print \"stements for program start\"\n",
    "for i in s:\n",
    "    print \"iteration started\"\n",
    "    print i\n",
    "    continue\n",
    "    print \"iteration ended\"\n",
    "print \"other statements in program\"\n",
    "print \"stements for program end\""
   ]
  },
  {
   "cell_type": "code",
   "execution_count": 21,
   "metadata": {
    "collapsed": false
   },
   "outputs": [
    {
     "name": "stdout",
     "output_type": "stream",
     "text": [
      "Enter values to iterate:a b c\n",
      "stements for program start\n",
      "iteration started\n",
      "a\n",
      "iteration ended\n",
      "iteration started\n",
      "iteration started\n",
      "b\n",
      "iteration ended\n",
      "iteration started\n",
      "iteration started\n",
      "c\n",
      "iteration ended\n",
      "other statements in program\n",
      "stements for program end\n"
     ]
    }
   ],
   "source": [
    "# for loop\n",
    "s=raw_input(\"Enter values to iterate:\")\n",
    "print \"stements for program start\"\n",
    "for i in s:\n",
    "    print \"iteration started\"\n",
    "    if i==\" \":\n",
    "        continue\n",
    "    print i\n",
    "    print \"iteration ended\"\n",
    "print \"other statements in program\"\n",
    "print \"stements for program end\""
   ]
  },
  {
   "cell_type": "code",
   "execution_count": 22,
   "metadata": {
    "collapsed": false
   },
   "outputs": [
    {
     "name": "stdout",
     "output_type": "stream",
     "text": [
      "Enter values to iterate:a b c\n",
      "stements for program start\n",
      "iteration started\n",
      "a\n",
      "iteration ended\n",
      "iteration started\n",
      "other statements in program\n",
      "stements for program end\n"
     ]
    }
   ],
   "source": [
    "# for loop\n",
    "s=raw_input(\"Enter values to iterate:\")\n",
    "print \"stements for program start\"\n",
    "for i in s:\n",
    "    print \"iteration started\"\n",
    "    if i==\" \":\n",
    "        break\n",
    "    print i\n",
    "    print \"iteration ended\"\n",
    "print \"other statements in program\"\n",
    "print \"stements for program end\""
   ]
  },
  {
   "cell_type": "code",
   "execution_count": 23,
   "metadata": {
    "collapsed": true
   },
   "outputs": [],
   "source": [
    "i=0\n",
    "while i<10:\n",
    "    i=i+1\n",
    "    break\n",
    "    print i"
   ]
  },
  {
   "cell_type": "code",
   "execution_count": 24,
   "metadata": {
    "collapsed": false
   },
   "outputs": [
    {
     "name": "stdout",
     "output_type": "stream",
     "text": [
      "1\n"
     ]
    }
   ],
   "source": [
    "i=0\n",
    "while i<10:\n",
    "    i=i+1\n",
    "    break\n",
    "print i"
   ]
  },
  {
   "cell_type": "code",
   "execution_count": 25,
   "metadata": {
    "collapsed": false
   },
   "outputs": [
    {
     "name": "stdout",
     "output_type": "stream",
     "text": [
      "3\n"
     ]
    }
   ],
   "source": [
    "i=0\n",
    "while i<3:\n",
    "    i=i+1\n",
    "    continue\n",
    "print i"
   ]
  },
  {
   "cell_type": "code",
   "execution_count": 26,
   "metadata": {
    "collapsed": false
   },
   "outputs": [
    {
     "name": "stdout",
     "output_type": "stream",
     "text": [
      "3\n"
     ]
    }
   ],
   "source": [
    "i=0\n",
    "while i<3:\n",
    "    i=i+1\n",
    "print i"
   ]
  },
  {
   "cell_type": "code",
   "execution_count": 27,
   "metadata": {
    "collapsed": false
   },
   "outputs": [
    {
     "name": "stdout",
     "output_type": "stream",
     "text": [
      "p\n",
      "p\n"
     ]
    }
   ],
   "source": [
    "for i in \"python\":\n",
    "    print i\n",
    "    break\n",
    "print i"
   ]
  },
  {
   "cell_type": "code",
   "execution_count": 28,
   "metadata": {
    "collapsed": false
   },
   "outputs": [
    {
     "name": "stdout",
     "output_type": "stream",
     "text": [
      "p\n"
     ]
    }
   ],
   "source": [
    "for i in \"python\":\n",
    "    break\n",
    "    print i\n",
    "    \n",
    "print i"
   ]
  },
  {
   "cell_type": "code",
   "execution_count": 29,
   "metadata": {
    "collapsed": false
   },
   "outputs": [
    {
     "name": "stdout",
     "output_type": "stream",
     "text": [
      "n\n"
     ]
    }
   ],
   "source": [
    "for i in \"python\":\n",
    "    continue\n",
    "    print i\n",
    "print i"
   ]
  },
  {
   "cell_type": "code",
   "execution_count": 30,
   "metadata": {
    "collapsed": false
   },
   "outputs": [
    {
     "name": "stdout",
     "output_type": "stream",
     "text": [
      "p\n",
      "y\n",
      "t\n",
      "h\n",
      "o\n",
      "n\n",
      "n\n"
     ]
    }
   ],
   "source": [
    "for i in \"python\":\n",
    "    print i\n",
    "    continue\n",
    "    print \"other statements in loop\"\n",
    "    print \"iteration ended\"\n",
    "print i"
   ]
  },
  {
   "cell_type": "code",
   "execution_count": 32,
   "metadata": {
    "collapsed": false
   },
   "outputs": [
    {
     "name": "stdout",
     "output_type": "stream",
     "text": [
      "Enter a number:10\n",
      "Enter a number:5\n",
      "two numbers are divisible\n"
     ]
    }
   ],
   "source": [
    "# take two number s and check both are divisble or not\n",
    "n1 = int(raw_input(\"Enter a number:\"))\n",
    "n2 = int(raw_input(\"Enter a number:\"))\n",
    "if n1%n2==0:\n",
    "    print \"two numbers are divisible\"\n",
    "else:\n",
    "    print \"two numbers are not divisible\"\n"
   ]
  },
  {
   "cell_type": "code",
   "execution_count": 33,
   "metadata": {
    "collapsed": false
   },
   "outputs": [
    {
     "name": "stdout",
     "output_type": "stream",
     "text": [
      "Enter a number:23\n",
      "Enter a number:5\n",
      "two numbers are not divisible\n"
     ]
    }
   ],
   "source": [
    "# take two number s and check both are divisble or not\n",
    "n1 = int(raw_input(\"Enter a number:\"))\n",
    "n2 = int(raw_input(\"Enter a number:\"))\n",
    "if n1%n2==0:\n",
    "    print \"two numbers are divisible\"\n",
    "else:\n",
    "    print \"two numbers are not divisible\"\n"
   ]
  },
  {
   "cell_type": "code",
   "execution_count": 34,
   "metadata": {
    "collapsed": false
   },
   "outputs": [
    {
     "name": "stdout",
     "output_type": "stream",
     "text": [
      "enter value to check prime or not:24\n",
      "given number is not prime number\n"
     ]
    }
   ],
   "source": [
    "# WAP to check given number is prime or not\n",
    "\"\"\"\n",
    "30-- 1 and 30 the other numbers should not divisible by 30\n",
    "\"\"\"\n",
    "n=int(raw_input(\"enter value to check prime or not:\"))\n",
    "i=1\n",
    "count=0\n",
    "while i<n:\n",
    "    if n%i==0:\n",
    "        count=  count+1\n",
    "    i=i+1\n",
    "if count>2:\n",
    "    print \"given number is not prime number\"\n",
    "else:\n",
    "    print \"given number is a prime number\"\n",
    "    "
   ]
  },
  {
   "cell_type": "code",
   "execution_count": 35,
   "metadata": {
    "collapsed": false
   },
   "outputs": [
    {
     "name": "stdout",
     "output_type": "stream",
     "text": [
      "enter value to check prime or not:23\n",
      "given number is a prime number\n"
     ]
    }
   ],
   "source": [
    "# WAP to check given number is prime or not\n",
    "\"\"\"\n",
    "30-- 1 and 30 the other numbers should not divisible by 30\n",
    "\"\"\"\n",
    "n=int(raw_input(\"enter value to check prime or not:\"))\n",
    "i=1\n",
    "count=0\n",
    "while i<n:\n",
    "    if n%i==0:\n",
    "        count=  count+1\n",
    "    i=i+1\n",
    "if count>2:\n",
    "    print \"given number is not prime number\"\n",
    "else:\n",
    "    print \"given number is a prime number\"\n",
    "    "
   ]
  },
  {
   "cell_type": "code",
   "execution_count": 36,
   "metadata": {
    "collapsed": false
   },
   "outputs": [
    {
     "name": "stdout",
     "output_type": "stream",
     "text": [
      "enter value to check prime or not:23\n",
      "given number is a prime number\n"
     ]
    }
   ],
   "source": [
    "# WAP to check given number is prime or not\n",
    "\"\"\"\n",
    "30-- 1 and 30 the other numbers should not divisible by 30\n",
    "\"\"\"\n",
    "n=int(raw_input(\"enter value to check prime or not:\"))\n",
    "i=2\n",
    "count=0\n",
    "while i<n:\n",
    "    if n%i==0:\n",
    "        count=  count+1\n",
    "    i=i+1\n",
    "if count>1:\n",
    "    print \"given number is not prime number\"\n",
    "else:\n",
    "    print \"given number is a prime number\""
   ]
  },
  {
   "cell_type": "code",
   "execution_count": 40,
   "metadata": {
    "collapsed": false
   },
   "outputs": [
    {
     "name": "stdout",
     "output_type": "stream",
     "text": [
      "enter value to check prime or not:25\n",
      "2\n",
      "3\n",
      "4\n",
      "5\n",
      "6\n",
      "7\n",
      "8\n",
      "9\n",
      "10\n",
      "11\n",
      "12\n",
      "13\n",
      "14\n",
      "15\n",
      "16\n",
      "17\n",
      "18\n",
      "19\n",
      "20\n",
      "21\n",
      "22\n",
      "23\n",
      "24\n",
      "given number is not prime number\n"
     ]
    }
   ],
   "source": [
    "# WAP to check given number is prime or not\n",
    "\"\"\"\n",
    "30-- 1 and 30 the other numbers should not divisible by 30\n",
    "\"\"\"\n",
    "n=int(raw_input(\"enter value to check prime or not:\"))\n",
    "i=2\n",
    "count=0\n",
    "while i<n:\n",
    "    print i\n",
    "    if n%i==0:\n",
    "        count=  count+1\n",
    "        \n",
    "    i=i+1\n",
    "if count>0:\n",
    "    print \"given number is not prime number\"\n",
    "else:\n",
    "    print \"given number is a prime number\""
   ]
  },
  {
   "cell_type": "code",
   "execution_count": 41,
   "metadata": {
    "collapsed": false
   },
   "outputs": [
    {
     "name": "stdout",
     "output_type": "stream",
     "text": [
      "enter value to check prime or not:25\n",
      "2\n",
      "3\n",
      "4\n",
      "5\n",
      "given number is not prime number\n"
     ]
    }
   ],
   "source": [
    "# WAP to check given number is prime or not\n",
    "\"\"\"\n",
    "30-- 1 and 30 the other numbers should not divisible by 30\n",
    "\"\"\"\n",
    "n=int(raw_input(\"enter value to check prime or not:\"))\n",
    "i=2\n",
    "count=0\n",
    "while i<n:\n",
    "    print i\n",
    "    if n%i==0:\n",
    "        count=  count+1\n",
    "        break\n",
    "    i=i+1\n",
    "if count>0:\n",
    "    print \"given number is not prime number\"\n",
    "else:\n",
    "    print \"given number is a prime number\""
   ]
  },
  {
   "cell_type": "code",
   "execution_count": 42,
   "metadata": {
    "collapsed": false
   },
   "outputs": [
    {
     "name": "stdout",
     "output_type": "stream",
     "text": [
      "enter value to check prime or not:25\n",
      "2\n",
      "3\n",
      "4\n",
      "5\n",
      "given number is not a prime number\n"
     ]
    }
   ],
   "source": [
    "# WAP to check given number is prime or not\n",
    "\"\"\"\n",
    "30-- 1 and 30 the other numbers should not divisible by 30\n",
    "\"\"\"\n",
    "n=int(raw_input(\"enter value to check prime or not:\"))\n",
    "i=2\n",
    "flag=True\n",
    "while i<n:\n",
    "    print i\n",
    "    if n%i==0:\n",
    "        flag=False\n",
    "        break\n",
    "    i=i+1\n",
    "if flag:\n",
    "    print \"given number is a prime\"\n",
    "else:\n",
    "    print \"given number is not a prime number\""
   ]
  },
  {
   "cell_type": "code",
   "execution_count": 43,
   "metadata": {
    "collapsed": false
   },
   "outputs": [
    {
     "name": "stdout",
     "output_type": "stream",
     "text": [
      "enter value to check prime or not:23\n",
      "2\n",
      "3\n",
      "4\n",
      "5\n",
      "6\n",
      "7\n",
      "8\n",
      "9\n",
      "10\n",
      "11\n",
      "12\n",
      "13\n",
      "14\n",
      "15\n",
      "16\n",
      "17\n",
      "18\n",
      "19\n",
      "20\n",
      "21\n",
      "22\n",
      "given number is a prime\n"
     ]
    }
   ],
   "source": [
    "# WAP to check given number is prime or not\n",
    "\"\"\"\n",
    "30-- 1 and 30 the other numbers should not divisible by 30\n",
    "\"\"\"\n",
    "n=int(raw_input(\"enter value to check prime or not:\"))\n",
    "i=2\n",
    "flag=True\n",
    "while i<n:\n",
    "    print i\n",
    "    if n%i==0:\n",
    "        flag=False\n",
    "        break\n",
    "    i=i+1\n",
    "if flag:\n",
    "    print \"given number is a prime\"\n",
    "else:\n",
    "    print \"given number is not a prime number\""
   ]
  },
  {
   "cell_type": "code",
   "execution_count": 44,
   "metadata": {
    "collapsed": false
   },
   "outputs": [
    {
     "name": "stdout",
     "output_type": "stream",
     "text": [
      "a\n",
      "b\n",
      "c\n",
      "else block\n"
     ]
    }
   ],
   "source": [
    "for i in \"abc\":\n",
    "    print i\n",
    "else:\n",
    "    print \"else block\""
   ]
  },
  {
   "cell_type": "code",
   "execution_count": 45,
   "metadata": {
    "collapsed": false
   },
   "outputs": [
    {
     "name": "stdout",
     "output_type": "stream",
     "text": [
      "a\n"
     ]
    }
   ],
   "source": [
    "for i in \"abc\":\n",
    "    print i\n",
    "    break\n",
    "else:\n",
    "    print \"else block\""
   ]
  },
  {
   "cell_type": "code",
   "execution_count": null,
   "metadata": {
    "collapsed": true
   },
   "outputs": [],
   "source": [
    "# amstrong, palindrom, prime, \n",
    "# find out a factorials of given number\n",
    "# generate fibonaci series up to given number\n",
    "# generate fibonaci series for gieven number of elements"
   ]
  }
 ],
 "metadata": {
  "kernelspec": {
   "display_name": "Python 2",
   "language": "python",
   "name": "python2"
  },
  "language_info": {
   "codemirror_mode": {
    "name": "ipython",
    "version": 2
   },
   "file_extension": ".py",
   "mimetype": "text/x-python",
   "name": "python",
   "nbconvert_exporter": "python",
   "pygments_lexer": "ipython2",
   "version": "2.7.11"
  }
 },
 "nbformat": 4,
 "nbformat_minor": 0
}
