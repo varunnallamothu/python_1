{
 "cells": [
  {
   "cell_type": "code",
   "execution_count": 1,
   "metadata": {
    "collapsed": false
   },
   "outputs": [
    {
     "name": "stdout",
     "output_type": "stream",
     "text": [
      "program started\n",
      "else block started\n",
      "10>20 is false\n",
      "else block ended\n",
      "other atatements in progrm\n",
      "program ended\n"
     ]
    }
   ],
   "source": [
    "print \"program started\"\n",
    "if 10>20:\n",
    "    print \"if block started\"\n",
    "    print \"10>20 is true\"\n",
    "    print \"if block ended\"\n",
    "else:\n",
    "    print \"else block started\"\n",
    "    print \"10>20 is false\"\n",
    "    print \"else block ended\"\n",
    "print \"other atatements in progrm\"\n",
    "print \"program ended\""
   ]
  },
  {
   "cell_type": "code",
   "execution_count": 2,
   "metadata": {
    "collapsed": false
   },
   "outputs": [
    {
     "ename": "IndentationError",
     "evalue": "unindent does not match any outer indentation level (<ipython-input-2-7c2189504129>, line 4)",
     "output_type": "error",
     "traceback": [
      "\u001b[1;36m  File \u001b[1;32m\"<ipython-input-2-7c2189504129>\"\u001b[1;36m, line \u001b[1;32m4\u001b[0m\n\u001b[1;33m    print \"10>20 is true\"\u001b[0m\n\u001b[1;37m                         ^\u001b[0m\n\u001b[1;31mIndentationError\u001b[0m\u001b[1;31m:\u001b[0m unindent does not match any outer indentation level\n"
     ]
    }
   ],
   "source": [
    "print \"program started\"\n",
    "if 10>20:\n",
    "    print \"if block started\"\n",
    "  print \"10>20 is true\"\n",
    "    print \"if block ended\"\n",
    "else:\n",
    "    print \"else block started\"\n",
    "    print \"10>20 is false\"\n",
    "    print \"else block ended\"\n",
    "print \"other atatements in progrm\"\n",
    "print \"program ended\""
   ]
  },
  {
   "cell_type": "code",
   "execution_count": 3,
   "metadata": {
    "collapsed": false
   },
   "outputs": [
    {
     "ename": "IndentationError",
     "evalue": "unexpected indent (<ipython-input-3-ed1e2322b18b>, line 5)",
     "output_type": "error",
     "traceback": [
      "\u001b[1;36m  File \u001b[1;32m\"<ipython-input-3-ed1e2322b18b>\"\u001b[1;36m, line \u001b[1;32m5\u001b[0m\n\u001b[1;33m    print \"if block ended\"\u001b[0m\n\u001b[1;37m    ^\u001b[0m\n\u001b[1;31mIndentationError\u001b[0m\u001b[1;31m:\u001b[0m unexpected indent\n"
     ]
    }
   ],
   "source": [
    "print \"program started\"\n",
    "if 10>20:\n",
    "    print \"if block started\"\n",
    "print \"10>20 is true\"\n",
    "    print \"if block ended\"\n",
    "else:\n",
    "    print \"else block started\"\n",
    "    print \"10>20 is false\"\n",
    "    print \"else block ended\"\n",
    "print \"other atatements in progrm\"\n",
    "print \"program ended\""
   ]
  },
  {
   "cell_type": "code",
   "execution_count": 4,
   "metadata": {
    "collapsed": false
   },
   "outputs": [
    {
     "name": "stdout",
     "output_type": "stream",
     "text": [
      "program started\n",
      "else block started\n",
      "10>20 is false\n",
      "else block ended\n",
      "other atatements in progrm\n",
      "program ended\n"
     ]
    }
   ],
   "source": [
    "print \"program started\"\n",
    "if 10>20:\n",
    "    print \"if block started\"\n",
    "    print \"10>20 is true\"\n",
    "    print \"if block ended\"\n",
    "else:\n",
    " print \"else block started\"\n",
    " print \"10>20 is false\"\n",
    " print \"else block ended\"\n",
    "print \"other atatements in progrm\"\n",
    "print \"program ended\""
   ]
  },
  {
   "cell_type": "code",
   "execution_count": 6,
   "metadata": {
    "collapsed": false
   },
   "outputs": [
    {
     "name": "stdout",
     "output_type": "stream",
     "text": [
      "1.Apple\n",
      "2.Banana\n",
      "3.Mango\n"
     ]
    }
   ],
   "source": [
    "\"\"\"\n",
    "1.Apple\n",
    "2.Banana\n",
    "3.Mango\n",
    "\"\"\"\n",
    "print \"1.Apple\\n2.Banana\\n3.Mango\"\n"
   ]
  },
  {
   "cell_type": "code",
   "execution_count": 7,
   "metadata": {
    "collapsed": false
   },
   "outputs": [
    {
     "name": "stdout",
     "output_type": "stream",
     "text": [
      "1.Apple\n",
      "2.Banana\n",
      "3.Mango\n",
      "Enter an option: 12\n",
      "12\n"
     ]
    }
   ],
   "source": [
    "\"\"\"\n",
    "1.Apple\n",
    "2.Banana\n",
    "3.Mango\n",
    "\"\"\"\n",
    "print \"1.Apple\\n2.Banana\\n3.Mango\"\n",
    "opt = raw_input(\"Enter an option: \")\n",
    "print opt"
   ]
  },
  {
   "cell_type": "code",
   "execution_count": 8,
   "metadata": {
    "collapsed": false
   },
   "outputs": [
    {
     "name": "stdout",
     "output_type": "stream",
     "text": [
      "1.Apple\n",
      "2.Banana\n",
      "3.Mango\n",
      "Enter an option: 1\n"
     ]
    }
   ],
   "source": [
    "\"\"\"\n",
    "1.Apple\n",
    "2.Banana\n",
    "3.Mango\n",
    "\"\"\"\n",
    "print \"1.Apple\\n2.Banana\\n3.Mango\"\n",
    "opt = raw_input(\"Enter an option: \")\n",
    "if opt == 1:\n",
    "    print \"selected Apple\""
   ]
  },
  {
   "cell_type": "code",
   "execution_count": 9,
   "metadata": {
    "collapsed": false
   },
   "outputs": [
    {
     "data": {
      "text/plain": [
       "False"
      ]
     },
     "execution_count": 9,
     "metadata": {},
     "output_type": "execute_result"
    }
   ],
   "source": [
    "\"1\"==1"
   ]
  },
  {
   "cell_type": "code",
   "execution_count": 10,
   "metadata": {
    "collapsed": false
   },
   "outputs": [
    {
     "name": "stdout",
     "output_type": "stream",
     "text": [
      "1.Apple\n",
      "2.Banana\n",
      "3.Mango\n",
      "Enter an option: 1\n",
      "selected Apple\n",
      "other statements in program\n",
      "program ended\n"
     ]
    }
   ],
   "source": [
    "\"\"\"\n",
    "1.Apple\n",
    "2.Banana\n",
    "3.Mango\n",
    "\"\"\"\n",
    "print \"1.Apple\\n2.Banana\\n3.Mango\"\n",
    "opt = raw_input(\"Enter an option: \")\n",
    "if opt == \"1\":\n",
    "    print \"selected Apple\"\n",
    "if opt==\"2\":\n",
    "    print \"selected Banana\"\n",
    "if opt == \"3\":\n",
    "    print \"selectyed Mango\"\n",
    "print \"other statements in program\"\n",
    "print \"program ended\""
   ]
  },
  {
   "cell_type": "code",
   "execution_count": 11,
   "metadata": {
    "collapsed": false
   },
   "outputs": [
    {
     "name": "stdout",
     "output_type": "stream",
     "text": [
      "1.Apple\n",
      "2.Banana\n",
      "3.Mango\n",
      "Enter an option: 2\n",
      "selected Banana\n",
      "other statements in program\n",
      "program ended\n"
     ]
    }
   ],
   "source": [
    "\"\"\"\n",
    "1.Apple\n",
    "2.Banana\n",
    "3.Mango\n",
    "\"\"\"\n",
    "print \"1.Apple\\n2.Banana\\n3.Mango\"\n",
    "opt = raw_input(\"Enter an option: \")\n",
    "if opt == \"1\":\n",
    "    print \"selected Apple\"\n",
    "if opt==\"2\":\n",
    "    print \"selected Banana\"\n",
    "if opt == \"3\":\n",
    "    print \"selectyed Mango\"\n",
    "print \"other statements in program\"\n",
    "print \"program ended\""
   ]
  },
  {
   "cell_type": "code",
   "execution_count": 12,
   "metadata": {
    "collapsed": false
   },
   "outputs": [
    {
     "name": "stdout",
     "output_type": "stream",
     "text": [
      "1.Apple\n",
      "2.Banana\n",
      "3.Mango\n",
      "Enter an option: 3\n",
      "selectyed Mango\n",
      "other statements in program\n",
      "program ended\n"
     ]
    }
   ],
   "source": [
    "\"\"\"\n",
    "1.Apple\n",
    "2.Banana\n",
    "3.Mango\n",
    "\"\"\"\n",
    "print \"1.Apple\\n2.Banana\\n3.Mango\"\n",
    "opt = raw_input(\"Enter an option: \")\n",
    "if opt == \"1\":\n",
    "    print \"selected Apple\"\n",
    "if opt==\"2\":\n",
    "    print \"selected Banana\"\n",
    "if opt == \"3\":\n",
    "    print \"selectyed Mango\"\n",
    "print \"other statements in program\"\n",
    "print \"program ended\""
   ]
  },
  {
   "cell_type": "code",
   "execution_count": 13,
   "metadata": {
    "collapsed": false
   },
   "outputs": [
    {
     "name": "stdout",
     "output_type": "stream",
     "text": [
      "1.Apple\n",
      "2.Banana\n",
      "3.Mango\n",
      "Enter an option: 4\n",
      "other statements in program\n",
      "program ended\n"
     ]
    }
   ],
   "source": [
    "\"\"\"\n",
    "1.Apple\n",
    "2.Banana\n",
    "3.Mango\n",
    "\"\"\"\n",
    "print \"1.Apple\\n2.Banana\\n3.Mango\"\n",
    "opt = raw_input(\"Enter an option: \")\n",
    "if opt == \"1\":\n",
    "    print \"selected Apple\"\n",
    "if opt==\"2\":\n",
    "    print \"selected Banana\"\n",
    "if opt == \"3\":\n",
    "    print \"selectyed Mango\"\n",
    "print \"other statements in program\"\n",
    "print \"program ended\""
   ]
  },
  {
   "cell_type": "code",
   "execution_count": 14,
   "metadata": {
    "collapsed": false
   },
   "outputs": [
    {
     "name": "stdout",
     "output_type": "stream",
     "text": [
      "1.Apple\n",
      "2.Banana\n",
      "3.Mango\n",
      "Enter an option: 4\n",
      "wrong option\n",
      "other statements in program\n",
      "program ended\n"
     ]
    }
   ],
   "source": [
    "\"\"\"\n",
    "1.Apple\n",
    "2.Banana\n",
    "3.Mango\n",
    "\"\"\"\n",
    "print \"1.Apple\\n2.Banana\\n3.Mango\"\n",
    "opt = raw_input(\"Enter an option: \")\n",
    "if opt == \"1\":\n",
    "    print \"selected Apple\"\n",
    "if opt==\"2\":\n",
    "    print \"selected Banana\"\n",
    "if opt == \"3\":\n",
    "    print \"selectyed Mango\"\n",
    "else:\n",
    "    print \"wrong option\"\n",
    "print \"other statements in program\"\n",
    "print \"program ended\""
   ]
  },
  {
   "cell_type": "code",
   "execution_count": 15,
   "metadata": {
    "collapsed": false
   },
   "outputs": [
    {
     "name": "stdout",
     "output_type": "stream",
     "text": [
      "1.Apple\n",
      "2.Banana\n",
      "3.Mango\n",
      "Enter an option: 2\n",
      "selected Banana\n",
      "wrong option\n",
      "other statements in program\n",
      "program ended\n"
     ]
    }
   ],
   "source": [
    "\"\"\"\n",
    "1.Apple\n",
    "2.Banana\n",
    "3.Mango\n",
    "\"\"\"\n",
    "print \"1.Apple\\n2.Banana\\n3.Mango\"\n",
    "opt = raw_input(\"Enter an option: \")\n",
    "if opt == \"1\":\n",
    "    print \"selected Apple\"\n",
    "if opt==\"2\":\n",
    "    print \"selected Banana\"\n",
    "if opt == \"3\":\n",
    "    print \"selectyed Mango\"\n",
    "else:\n",
    "    print \"wrong option\"\n",
    "print \"other statements in program\"\n",
    "print \"program ended\""
   ]
  },
  {
   "cell_type": "code",
   "execution_count": 16,
   "metadata": {
    "collapsed": false
   },
   "outputs": [
    {
     "name": "stdout",
     "output_type": "stream",
     "text": [
      "1.Apple\n",
      "2.Banana\n",
      "3.Mango\n",
      "Enter an option: 2\n",
      "selected Banana\n",
      "other statements in program\n",
      "program ended\n"
     ]
    }
   ],
   "source": [
    "\"\"\"\n",
    "1.Apple\n",
    "2.Banana\n",
    "3.Mango\n",
    "\"\"\"\n",
    "print \"1.Apple\\n2.Banana\\n3.Mango\"\n",
    "opt = raw_input(\"Enter an option: \")\n",
    "if opt == \"1\":\n",
    "    print \"selected Apple\"\n",
    "elif opt==\"2\":\n",
    "    print \"selected Banana\"\n",
    "elif opt == \"3\":\n",
    "    print \"selectyed Mango\"\n",
    "else:\n",
    "    print \"wrong option\"\n",
    "print \"other statements in program\"\n",
    "print \"program ended\""
   ]
  },
  {
   "cell_type": "code",
   "execution_count": 17,
   "metadata": {
    "collapsed": false
   },
   "outputs": [
    {
     "name": "stdout",
     "output_type": "stream",
     "text": [
      "1.Apple\n",
      "2.Banana\n",
      "3.Mango\n",
      "Enter an option: 4\n",
      "wrong option\n",
      "other statements in program\n",
      "program ended\n"
     ]
    }
   ],
   "source": [
    "\"\"\"\n",
    "1.Apple\n",
    "2.Banana\n",
    "3.Mango\n",
    "\"\"\"\n",
    "print \"1.Apple\\n2.Banana\\n3.Mango\"\n",
    "opt = raw_input(\"Enter an option: \")\n",
    "if opt == \"1\":\n",
    "    print \"selected Apple\"\n",
    "elif opt==\"2\":\n",
    "    print \"selected Banana\"\n",
    "elif opt == \"3\":\n",
    "    print \"selectyed Mango\"\n",
    "else:\n",
    "    print \"wrong option\"\n",
    "print \"other statements in program\"\n",
    "print \"program ended\""
   ]
  },
  {
   "cell_type": "code",
   "execution_count": 18,
   "metadata": {
    "collapsed": true
   },
   "outputs": [],
   "source": [
    "# pass\n",
    "# pep8 errors"
   ]
  },
  {
   "cell_type": "code",
   "execution_count": 19,
   "metadata": {
    "collapsed": false
   },
   "outputs": [
    {
     "name": "stdout",
     "output_type": "stream",
     "text": [
      "Enter a number:12\n",
      "a is even\n"
     ]
    }
   ],
   "source": [
    "a=raw_input(\"Enter a number:\")\n",
    "a=int(a)\n",
    "if a%2==0:\n",
    "    print \"a is even\"\n",
    "else:\n",
    "    print \"a is odd\""
   ]
  },
  {
   "cell_type": "code",
   "execution_count": 20,
   "metadata": {
    "collapsed": false
   },
   "outputs": [
    {
     "name": "stdout",
     "output_type": "stream",
     "text": [
      "Enter a number:3\n",
      "a is odd\n"
     ]
    }
   ],
   "source": [
    "a=raw_input(\"Enter a number:\")\n",
    "a=int(a)\n",
    "if a%2==0:\n",
    "    print \"a is even\"\n",
    "else:\n",
    "    print \"a is odd\""
   ]
  },
  {
   "cell_type": "code",
   "execution_count": 21,
   "metadata": {
    "collapsed": false
   },
   "outputs": [
    {
     "name": "stdout",
     "output_type": "stream",
     "text": [
      "Enter a number:\n"
     ]
    },
    {
     "ename": "ValueError",
     "evalue": "invalid literal for int() with base 10: ''",
     "output_type": "error",
     "traceback": [
      "\u001b[1;31m---------------------------------------------------------------------------\u001b[0m",
      "\u001b[1;31mValueError\u001b[0m                                Traceback (most recent call last)",
      "\u001b[1;32m<ipython-input-21-0c6f64223131>\u001b[0m in \u001b[0;36m<module>\u001b[1;34m()\u001b[0m\n\u001b[0;32m      1\u001b[0m \u001b[0ma\u001b[0m\u001b[1;33m=\u001b[0m\u001b[0mraw_input\u001b[0m\u001b[1;33m(\u001b[0m\u001b[1;34m\"Enter a number:\"\u001b[0m\u001b[1;33m)\u001b[0m\u001b[1;33m\u001b[0m\u001b[0m\n\u001b[1;32m----> 2\u001b[1;33m \u001b[0ma\u001b[0m\u001b[1;33m=\u001b[0m\u001b[0mint\u001b[0m\u001b[1;33m(\u001b[0m\u001b[0ma\u001b[0m\u001b[1;33m)\u001b[0m\u001b[1;33m\u001b[0m\u001b[0m\n\u001b[0m\u001b[0;32m      3\u001b[0m \u001b[1;32mif\u001b[0m \u001b[0ma\u001b[0m\u001b[1;33m%\u001b[0m\u001b[1;36m2\u001b[0m\u001b[1;33m==\u001b[0m\u001b[1;36m0\u001b[0m\u001b[1;33m:\u001b[0m\u001b[1;33m\u001b[0m\u001b[0m\n\u001b[0;32m      4\u001b[0m     \u001b[1;32mprint\u001b[0m \u001b[1;34m\"a is even\"\u001b[0m\u001b[1;33m\u001b[0m\u001b[0m\n\u001b[0;32m      5\u001b[0m \u001b[1;32melse\u001b[0m\u001b[1;33m:\u001b[0m\u001b[1;33m\u001b[0m\u001b[0m\n",
      "\u001b[1;31mValueError\u001b[0m: invalid literal for int() with base 10: ''"
     ]
    }
   ],
   "source": [
    "a=raw_input(\"Enter a number:\")\n",
    "a=int(a)\n",
    "if a%2==0:\n",
    "    print \"a is even\"\n",
    "else:\n",
    "    print \"a is odd\""
   ]
  },
  {
   "cell_type": "code",
   "execution_count": 22,
   "metadata": {
    "collapsed": false
   },
   "outputs": [
    {
     "name": "stdout",
     "output_type": "stream",
     "text": [
      "\n"
     ]
    }
   ],
   "source": [
    "print a"
   ]
  },
  {
   "cell_type": "code",
   "execution_count": 23,
   "metadata": {
    "collapsed": false
   },
   "outputs": [
    {
     "name": "stdout",
     "output_type": "stream",
     "text": [
      "Enter a number:12\n",
      "a is even\n"
     ]
    }
   ],
   "source": [
    "a=raw_input(\"Enter a number:\")\n",
    "a=int(a)\n",
    "if a != \"\":\n",
    "    if a%2==0:\n",
    "        print \"a is even\"\n",
    "    else:\n",
    "        print \"a is odd\"\n",
    "else:\n",
    "    print \"please give a number\""
   ]
  },
  {
   "cell_type": "code",
   "execution_count": 25,
   "metadata": {
    "collapsed": false
   },
   "outputs": [
    {
     "name": "stdout",
     "output_type": "stream",
     "text": [
      "Enter a number:\n",
      "please give a number\n"
     ]
    }
   ],
   "source": [
    "a=raw_input(\"Enter a number:\")\n",
    "\n",
    "if a != \"\":\n",
    "    a=int(a)\n",
    "    if a%2==0:\n",
    "        print \"a is even\"\n",
    "    else:\n",
    "        print \"a is odd\"\n",
    "else:\n",
    "    print \"please give a number\""
   ]
  },
  {
   "cell_type": "code",
   "execution_count": 26,
   "metadata": {
    "collapsed": false
   },
   "outputs": [
    {
     "data": {
      "text/plain": [
       "True"
      ]
     },
     "execution_count": 26,
     "metadata": {},
     "output_type": "execute_result"
    }
   ],
   "source": [
    "bool(\"12\")"
   ]
  },
  {
   "cell_type": "code",
   "execution_count": 27,
   "metadata": {
    "collapsed": false
   },
   "outputs": [
    {
     "data": {
      "text/plain": [
       "False"
      ]
     },
     "execution_count": 27,
     "metadata": {},
     "output_type": "execute_result"
    }
   ],
   "source": [
    "bool(\"\")"
   ]
  },
  {
   "cell_type": "code",
   "execution_count": 28,
   "metadata": {
    "collapsed": false
   },
   "outputs": [
    {
     "name": "stdout",
     "output_type": "stream",
     "text": [
      "Enter a number:\n",
      "please give a number\n"
     ]
    }
   ],
   "source": [
    "a=raw_input(\"Enter a number:\")\n",
    "\n",
    "if a:\n",
    "    a=int(a)\n",
    "    if a%2==0:\n",
    "        print \"a is even\"\n",
    "    else:\n",
    "        print \"a is odd\"\n",
    "else:\n",
    "    print \"please give a number\""
   ]
  },
  {
   "cell_type": "code",
   "execution_count": null,
   "metadata": {
    "collapsed": true
   },
   "outputs": [],
   "source": []
  }
 ],
 "metadata": {
  "kernelspec": {
   "display_name": "Python 2",
   "language": "python",
   "name": "python2"
  },
  "language_info": {
   "codemirror_mode": {
    "name": "ipython",
    "version": 2
   },
   "file_extension": ".py",
   "mimetype": "text/x-python",
   "name": "python",
   "nbconvert_exporter": "python",
   "pygments_lexer": "ipython2",
   "version": "2.7.11"
  }
 },
 "nbformat": 4,
 "nbformat_minor": 0
}
